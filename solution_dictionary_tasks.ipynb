{
 "cells": [
  {
   "cell_type": "markdown",
   "metadata": {},
   "source": [
    "Task1:\n",
    "students={\"student1\":{\"name\":\"Alice\",\"age\":20,\"grades\":{\"math\":85,\"science\":90}},\"student2\":{\"name\":\"Bob\",\"age\":22,\"grades\":{\"math\":78,\"science\":88}}} \n",
    "Qs:1 Delete Charlie’s Record\n",
    "Qs:2 Delete Bob’s Math Grade"
   ]
  },
  {
   "cell_type": "code",
   "execution_count": 5,
   "metadata": {},
   "outputs": [
    {
     "name": "stdout",
     "output_type": "stream",
     "text": [
      "{'student1': {'name': 'Alice', 'age': 20, 'grades': {'math': 85, 'science': 90}}, 'student2': {'name': 'Bob', 'age': 22, 'grades': {'math': 78, 'science': 95}}}\n",
      "{'student1': {'name': 'Alice', 'age': 20, 'grades': {'math': 85, 'science': 90}}, 'student2': {'name': 'Bob', 'age': 22, 'grades': {'science': 95}}}\n"
     ]
    }
   ],
   "source": [
    "students = {\n",
    "'student1': {'name': 'Alice', 'age': 20, 'grades': {'math': 85, 'science': 90}},\n",
    "'student2': {'name': 'Bob', 'age': 22, 'grades': {'math': 78, 'science': 95}},\n",
    "'student3': {'name': 'Charlie', 'age': 21, 'grades': {'math': 92, 'science': 89}}\n",
    "}\n",
    "\n",
    "#deleting charlie's record\n",
    "del students['student3']\n",
    "print(students)\n",
    "\n",
    "#deleting bob's Math Grade\n",
    "del students['student2']['grades']['math']\n",
    "print(students)"
   ]
  },
  {
   "cell_type": "markdown",
   "metadata": {},
   "source": [
    "TASK : 02"
   ]
  },
  {
   "cell_type": "code",
   "execution_count": 17,
   "metadata": {},
   "outputs": [],
   "source": [
    "employees={101:{\"name\":\"Alice\",\"department\":\"HR\",\"salary\":50000},102:{\"name\":\"Bob\",\"department\":\"IT\",\"salary\":60000}}\n",
    "\n",
    "# #1.Add a new employee with ID 103\n",
    "new_employee = {\"name\":\"Mark\", \"department\":\"Finance\", \"salary\": 80000}\n",
    "# employees.update(new_employee) #can be done this way too\n",
    "employees[103] = new_employee\n",
    "print(\"Added new employee with ID 103:\", employees,\"\\n\")\n",
    "\n",
    "#2.Updating the salary of Employee with ID 102\n",
    "# employees[102].update({\"salary\":55000}) #can be done this way too\n",
    "employees[102][\"salary\"] = 55000\n",
    "print(\"Updated salary of employee with ID 102 is:\", employees,\"\\n\")\n",
    "\n",
    "#3.Printing Department of the employee with ID 101\n",
    "print(\"The department is:\", employees[101][\"department\"])"
   ]
  },
  {
   "cell_type": "markdown",
   "metadata": {},
   "source": [
    "TASK 03: You have a dictionary of students and their grades in different subjects. Find the name of the student with the highest average grade."
   ]
  },
  {
   "cell_type": "code",
   "execution_count": 2,
   "metadata": {},
   "outputs": [
    {
     "name": "stdout",
     "output_type": "stream",
     "text": [
      "The name of student with highest average grade is: Charlie\n"
     ]
    }
   ],
   "source": [
    "students={\"Alice\":{\"math\":90,\"science\":85},\"Bob\":{\"math\":70,\"science\":80},\"Charlie\":{\"math\":88,\"science\":92}}\n",
    "\n",
    "#calculating average scores of each Student\n",
    "average_grade1 = students[\"Alice\"][\"math\"]+students[\"Alice\"][\"science\"] / 2\n",
    "average_grade2 = students[\"Bob\"][\"math\"]+students[\"Bob\"][\"science\"] / 2\n",
    "average_grade3 = students[\"Charlie\"][\"math\"]+students[\"Charlie\"][\"science\"] / 2\n",
    "\n",
    "#finding the maximum of average grade and printing the \n",
    "if average_grade1 > average_grade2 and average_grade1 > average_grade3:\n",
    "    name = list(students.keys())\n",
    "    print(\"The name of the student with highest average grade is:\", name[0])\n",
    "elif average_grade2 > average_grade1 and average_grade2 > average_grade3:\n",
    "    name = list(students.keys())\n",
    "    print(\"The name of student with highest average grade is:\", name[1])\n",
    "else:\n",
    "    name = list(students.keys())\n",
    "    print(\"The name of student with highest average grade is:\", name[2])"
   ]
  },
  {
   "cell_type": "markdown",
   "metadata": {},
   "source": [
    "Below is the alternative solution of above task"
   ]
  },
  {
   "cell_type": "code",
   "execution_count": 1,
   "metadata": {},
   "outputs": [
    {
     "name": "stdout",
     "output_type": "stream",
     "text": [
      "The name of student with highest average grade is: Charlie\n"
     ]
    }
   ],
   "source": [
    "students={\"Alice\":{\"math\":90,\"science\":85},\"Bob\":{\"math\":70,\"science\":80},\"Charlie\":{\"math\":88,\"science\":92}}\n",
    "#calculating average scores of each Student\n",
    "average_grade1 = students[\"Alice\"][\"math\"]+students[\"Alice\"][\"science\"] / 2\n",
    "average_grade2 = students[\"Bob\"][\"math\"]+students[\"Bob\"][\"science\"] / 2\n",
    "average_grade3 = students[\"Charlie\"][\"math\"]+students[\"Charlie\"][\"science\"] / 2\n",
    "\n",
    "highest_average = max(average_grade1, average_grade2, average_grade3)\n",
    "\n",
    "name = list(students.keys())\n",
    "\n",
    "if highest_average == average_grade1:\n",
    "    print(\"The name of the student with highest average grade is:\", name[0])\n",
    "elif highest_average == average_grade2:\n",
    "    print(\"The name of student with highest average grade is:\", name[1])\n",
    "else:\n",
    "    print(\"The name of student with highest average grade is:\", name[2])"
   ]
  },
  {
   "cell_type": "markdown",
   "metadata": {},
   "source": [
    "TASK : 04 Library System"
   ]
  },
  {
   "cell_type": "code",
   "execution_count": 45,
   "metadata": {},
   "outputs": [
    {
     "name": "stdout",
     "output_type": "stream",
     "text": [
      "{1: {'title': '1984', 'author': 'George Orwell', 'available': True}, 2: {'title': 'To Kill a Mockingbird', 'author': 'Harper Lee', 'available': True}, 3: {'title': 'The Kite Runner', 'author': 'Khaled Hosseini', 'available': True}} \n",
      "\n",
      "                                       Welcome to My Libray!!                                       \n",
      "Please Enter A Valid Choice \n",
      "\n"
     ]
    }
   ],
   "source": [
    "library = {\n",
    "1: {\"title\": \"1984\", \"author\": \"George Orwell\", \"available\": True},\n",
    "2: {\"title\": \"To Kill a Mockingbird\", \"author\": \"Harper Lee\",\n",
    "\"available\": True},\n",
    "}\n",
    "#Adding a new book\n",
    "new_book = {3 : {\"title\": \"The Kite Runner\", \"author\": \"Khaled Hosseini\", \"available\": True}}\n",
    "library.update(new_book)\n",
    "\n",
    "print(library,'\\n')\n",
    "\n",
    "#2.Borrow a book(change its availability to False)\n",
    "display_text = 'Welcome to My Libray!!'\n",
    "print(display_text.center(100))\n",
    "\n",
    "user_choice = input('Do you want to borrow or return? \\n').lower()\n",
    "if user_choice == 'borrow':\n",
    "    print(\"The Book IDs are:\", list(library.keys()),'\\n')\n",
    "    book_id = int(input('Enter Book ID, You want to borrow: \\n'))\n",
    "    if book_id == 1:\n",
    "        library[1][\"available\"] = False\n",
    "        print(\"Available Books are:\", library,'\\n')\n",
    "    elif book_id == 2:\n",
    "        library[1][\"available\"] = False\n",
    "        print(\"Available Books are:\", library,'\\n')\n",
    "    elif book_id == 3:\n",
    "        library[3][\"available\"] = False\n",
    "        print(\"Available Books are:\", library,'\\n')\n",
    "    else:\n",
    "        print('Enter a valid Book ID \\n')\n",
    "elif user_choice == 'return':\n",
    "    print(\"The Book IDs are:\", list(library.keys()),'\\n')\n",
    "    book_id = int(input('Enter Book ID, You want to return: \\n'))\n",
    "    if book_id == 1:\n",
    "        library[1][\"available\"] = True\n",
    "        print(\"Available Books are:\", library,'\\n')\n",
    "    elif book_id == 2:\n",
    "        library[1][\"available\"] = True\n",
    "        print(\"Available Books are:\", library,'\\n')\n",
    "    elif book_id == 3:\n",
    "        library[3][\"available\"] = True\n",
    "        print(\"Available Books are:\", library,'\\n')\n",
    "    else:\n",
    "        print('Enter either 1,2,3 Book ID','\\n')\n",
    "else:\n",
    "    print('Please Enter A Valid Choice','\\n')\n",
    "\n"
   ]
  }
 ],
 "metadata": {
  "kernelspec": {
   "display_name": "Python 3",
   "language": "python",
   "name": "python3"
  },
  "language_info": {
   "codemirror_mode": {
    "name": "ipython",
    "version": 3
   },
   "file_extension": ".py",
   "mimetype": "text/x-python",
   "name": "python",
   "nbconvert_exporter": "python",
   "pygments_lexer": "ipython3",
   "version": "3.13.0"
  }
 },
 "nbformat": 4,
 "nbformat_minor": 2
}
