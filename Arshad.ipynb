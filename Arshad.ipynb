{
 "cells": [
  {
   "cell_type": "markdown",
   "metadata": {},
   "source": [
    "<!-- 1. Write a program to Print First 10 natural numbers. -->"
   ]
  },
  {
   "cell_type": "code",
   "execution_count": null,
   "metadata": {},
   "outputs": [
    {
     "name": "stdout",
     "output_type": "stream",
     "text": [
      "1\n",
      "2\n",
      "3\n",
      "4\n",
      "5\n",
      "6\n",
      "7\n",
      "8\n",
      "9\n",
      "10\n"
     ]
    }
   ],
   "source": [
    "#task 1\n",
    "# Using a for loop\n",
    "for number in range(1, 11):\n",
    "    print(number)"
   ]
  },
  {
   "cell_type": "markdown",
   "metadata": {},
   "source": [
    "<!-- 2. Program to calculate the sum of all numbers from 1 to a given number -->"
   ]
  },
  {
   "cell_type": "code",
   "execution_count": null,
   "metadata": {},
   "outputs": [
    {
     "name": "stdout",
     "output_type": "stream",
     "text": [
      "The sum of all numbers from 1 to 5 is: 15\n"
     ]
    }
   ],
   "source": [
    "#task 2\n",
    "def calculate_sum(n):\n",
    "    return sum(range(1, n + 1))\n",
    "\n",
    "number = int(input(\"Enter a number: \"))\n",
    "result = calculate_sum(number)\n",
    "\n",
    "print(f\"The sum of all numbers from 1 to {number} is: {result}\")"
   ]
  },
  {
   "cell_type": "markdown",
   "metadata": {},
   "source": [
    "<!-- 3. Write a program to print multiplication table of a given number. -->"
   ]
  },
  {
   "cell_type": "code",
   "execution_count": 15,
   "metadata": {},
   "outputs": [
    {
     "name": "stdout",
     "output_type": "stream",
     "text": [
      "Multiplication Table of 5:\n",
      "5 x 1 = 5\n",
      "5 x 2 = 10\n",
      "5 x 3 = 15\n",
      "5 x 4 = 20\n",
      "5 x 5 = 25\n",
      "5 x 6 = 30\n",
      "5 x 7 = 35\n",
      "5 x 8 = 40\n",
      "5 x 9 = 45\n",
      "5 x 10 = 50\n"
     ]
    }
   ],
   "source": [
    "def print_multiplication_table(number): \n",
    "    print(f\"Multiplication Table of {number}:\")\n",
    "    for i in range(1, 11):\n",
    "        print(f\"{number} x {i} = {number * i}\")\n",
    "        \n",
    "    number = int(input(\"Enter a number: \"))\n",
    "print_multiplication_table(number)\n"
   ]
  },
  {
   "cell_type": "markdown",
   "metadata": {},
   "source": [
    "<!-- 4. Write a program to display only those numbers from a list (numbers = [12, 75, 150,\n",
    "180, 145, 525, 50]) that satisfy the following conditions:\n",
    "The number must be divisible by five\n",
    "If the number is greater than 150, then skip it and move to the next number\n",
    "If the number is greater than 500, then stop the loop -->"
   ]
  },
  {
   "cell_type": "code",
   "execution_count": 2,
   "metadata": {},
   "outputs": [
    {
     "name": "stdout",
     "output_type": "stream",
     "text": [
      "75\n",
      "150\n",
      "145\n"
     ]
    }
   ],
   "source": [
    "numbers = [12, 75, 150, 180, 145, 525, 50]\n",
    "for num in numbers:\n",
    "    if num > 500:\n",
    "        break\n",
    "    if num > 150:\n",
    "        continue\n",
    "    if num % 5 == 0:\n",
    "        print(num)"
   ]
  },
  {
   "cell_type": "markdown",
   "metadata": {},
   "source": [
    "<!-- 5. Write a program to Print list in reverse order using a loop. -->"
   ]
  },
  {
   "cell_type": "code",
   "execution_count": 3,
   "metadata": {},
   "outputs": [
    {
     "name": "stdout",
     "output_type": "stream",
     "text": [
      "5\n",
      "4\n",
      "3\n",
      "2\n",
      "1\n"
     ]
    }
   ],
   "source": [
    "my_list = [1, 2, 3, 4, 5]\n",
    "for i in range(len(my_list) - 1, -1, -1):\n",
    "    print(my_list[i])"
   ]
  },
  {
   "cell_type": "markdown",
   "metadata": {},
   "source": [
    "<!-- 6. Write a program to display all prime numbers within a range. -->"
   ]
  },
  {
   "cell_type": "code",
   "execution_count": 16,
   "metadata": {},
   "outputs": [
    {
     "name": "stdout",
     "output_type": "stream",
     "text": [
      "23\n",
      "29\n",
      "31\n",
      "37\n",
      "41\n",
      "43\n"
     ]
    }
   ],
   "source": [
    "start = int(input(\"Enter start of range: \"))\n",
    "end = int(input(\"Enter end of range: \"))\n",
    "for num in range(start, end + 1):\n",
    "    if num > 1:\n",
    "        for i in range(2, int(num**0.5) + 1):\n",
    "            if num % i == 0:\n",
    "                break\n",
    "        else:\n",
    "            print(num)"
   ]
  },
  {
   "cell_type": "markdown",
   "metadata": {},
   "source": [
    "<!-- 7. Write a program to Find the factorial of a given number. -->"
   ]
  },
  {
   "cell_type": "code",
   "execution_count": 18,
   "metadata": {},
   "outputs": [
    {
     "name": "stdout",
     "output_type": "stream",
     "text": [
      "Factorial of 7 is: 5040\n"
     ]
    }
   ],
   "source": [
    "n = int(input(\"Enter a number: \"))\n",
    "factorial = 1\n",
    "for i in range(1, n + 1):\n",
    "    factorial *= i\n",
    "print(\"Factorial of\", n, \"is:\", factorial)"
   ]
  },
  {
   "cell_type": "markdown",
   "metadata": {},
   "source": [
    "<!-- 8. Write a program to find the sum of the series up to n terms. -->"
   ]
  },
  {
   "cell_type": "code",
   "execution_count": 20,
   "metadata": {},
   "outputs": [
    {
     "name": "stdout",
     "output_type": "stream",
     "text": [
      "The sum of the series up to 6 terms is: 21\n"
     ]
    }
   ],
   "source": [
    "n = int(input(\"Enter the number of terms: \"))\n",
    "total_sum = sum(range(1, n + 1))\n",
    "print(\"The sum of the series up to\", n, \"terms is:\", total_sum)"
   ]
  },
  {
   "cell_type": "markdown",
   "metadata": {},
   "source": [
    "<!-- 9. Write a Python program to guess a number between 1 and 9.\n",
    "Note : User is prompted to enter a guess. If the user guesses wrong then the prompt\n",
    "appears again until the guess is correct, on successful guess, user will get a \"Well\n",
    "guessed!\" message, and the program will exit. -->"
   ]
  },
  {
   "cell_type": "code",
   "execution_count": 21,
   "metadata": {},
   "outputs": [
    {
     "name": "stdout",
     "output_type": "stream",
     "text": [
      "Well guessed!\n"
     ]
    }
   ],
   "source": [
    "import random\n",
    "number_to_guess = random.randint(1, 9)\n",
    "guess = 0\n",
    "while guess != number_to_guess:\n",
    "    guess = int(input(\"Guess a number between 1 and 9: \"))\n",
    "    if guess != number_to_guess:\n",
    "        print(\"Try again!\")\n",
    "print(\"Well guessed!\")"
   ]
  },
  {
   "cell_type": "markdown",
   "metadata": {},
   "source": [
    "<!-- 10. Write a Python program that accepts a word from the user and reverses it. -->"
   ]
  },
  {
   "cell_type": "code",
   "execution_count": 22,
   "metadata": {},
   "outputs": [
    {
     "name": "stdout",
     "output_type": "stream",
     "text": [
      "Reversed word: 007\n"
     ]
    }
   ],
   "source": [
    "word = input(\"Enter a word: \")\n",
    "reversed_word = word[::-1]\n",
    "print(\"Reversed word:\", reversed_word)"
   ]
  },
  {
   "cell_type": "markdown",
   "metadata": {},
   "source": [
    "<!-- 11. Write a Python program that accepts a string and calculates the number of digits and\n",
    "letters.\n",
    "Sample Data : Python 3.2\n",
    "Expected Output :\n",
    "Letters 6\n",
    "Digits 2. -->"
   ]
  },
  {
   "cell_type": "code",
   "execution_count": 23,
   "metadata": {},
   "outputs": [
    {
     "name": "stdout",
     "output_type": "stream",
     "text": [
      "Letters: 0\n",
      "Digits: 2\n"
     ]
    }
   ],
   "source": [
    "input_string = input(\"Enter a string: \")\n",
    "letters = sum(c.isalpha() for c in input_string)\n",
    "digits = sum(c.isdigit() for c in input_string)\n",
    "print(\"Letters:\", letters)\n",
    "print(\"Digits:\", digits)"
   ]
  },
  {
   "cell_type": "markdown",
   "metadata": {},
   "source": [
    "<!-- 12. Write a program to calculate the length of string provide input by user (without using\n",
    "len). -->"
   ]
  },
  {
   "cell_type": "code",
   "execution_count": 24,
   "metadata": {},
   "outputs": [
    {
     "name": "stdout",
     "output_type": "stream",
     "text": [
      "Length of the string is: 6\n"
     ]
    }
   ],
   "source": [
    "input_string = input(\"Enter a string: \")\n",
    "count = 0\n",
    "for char in input_string:\n",
    "    count += 1\n",
    "print(\"Length of the string is:\", count)"
   ]
  },
  {
   "cell_type": "markdown",
   "metadata": {},
   "source": [
    "<!-- 13. Write a Python program to print the number of vowels and consonant in your full\n",
    "name. -->"
   ]
  },
  {
   "cell_type": "code",
   "execution_count": 25,
   "metadata": {},
   "outputs": [
    {
     "name": "stdout",
     "output_type": "stream",
     "text": [
      "Vowels: 2\n",
      "Consonants: 4\n"
     ]
    }
   ],
   "source": [
    "name = input(\"Enter your full name: \")\n",
    "vowels = \"aeiouAEIOU\"\n",
    "vowel_count = sum(1 for char in name if char in vowels)\n",
    "consonant_count = sum(1 for char in name if char.isalpha() and char not in vowels)\n",
    "print(\"Vowels:\", vowel_count)\n",
    "print(\"Consonants:\", consonant_count)"
   ]
  },
  {
   "cell_type": "markdown",
   "metadata": {},
   "source": [
    "<!-- 14. Write a Python program that generates list of values. The values must be taken from\n",
    "user as input. -->"
   ]
  },
  {
   "cell_type": "code",
   "execution_count": null,
   "metadata": {},
   "outputs": [],
   "source": [
    "name = input(\"Enter your full name: \")\n",
    "vowels = \"aeiouAEIOU\"\n",
    "vowel_count = sum(1 for char in name if char in vowels)\n",
    "consonant_count = sum(1 for char in name if char.isalpha() and char not in vowels)\n",
    "print(\"Vowels:\", vowel_count)\n",
    "print(\"Consonants:\", consonant_count)"
   ]
  },
  {
   "cell_type": "markdown",
   "metadata": {},
   "source": [
    "<!-- 15. Write a Python program to copy elements from one list to another. -->"
   ]
  },
  {
   "cell_type": "code",
   "execution_count": 31,
   "metadata": {},
   "outputs": [
    {
     "name": "stdout",
     "output_type": "stream",
     "text": [
      "Original List: [10, 20, 30, 40, 50]\n",
      "Copied List: [10, 20, 30, 40, 50]\n"
     ]
    }
   ],
   "source": [
    "original_list = [10, 20, 30, 40, 50]\n",
    "copied_list = []\n",
    "\n",
    "for item in original_list:\n",
    "    copied_list.append(item)\n",
    "    \n",
    "# Print the original and copied lists\n",
    "print(\"Original List:\", original_list)\n",
    "print(\"Copied List:\", copied_list)    "
   ]
  },
  {
   "cell_type": "markdown",
   "metadata": {},
   "source": [
    "<!-- 16. Write a python program to select the maximum value from list (without using\n",
    "maximum function). -->"
   ]
  },
  {
   "cell_type": "code",
   "execution_count": null,
   "metadata": {},
   "outputs": [
    {
     "name": "stdout",
     "output_type": "stream",
     "text": [
      "Maximum value: 23\n"
     ]
    }
   ],
   "source": [
    "# task 16\n",
    "numbers = [3, 5, 23, 6, 5, 1, 2, 9, 8]\n",
    "max_value = numbers[0]\n",
    "for num in numbers:\n",
    "    if num > max_value:\n",
    "        max_value = num\n",
    "print(\"Maximum value:\", max_value)"
   ]
  },
  {
   "cell_type": "markdown",
   "metadata": {},
   "source": [
    "<!-- 17. Write a Python program to count the number of even and odd numbers from a series\n",
    "of numbers. Sample numbers: numbers = (1, 2, 3, 4, 5, 6, 7, 8, 9) -->"
   ]
  },
  {
   "cell_type": "code",
   "execution_count": null,
   "metadata": {},
   "outputs": [
    {
     "name": "stdout",
     "output_type": "stream",
     "text": [
      "Even numbers: 4\n",
      "Odd numbers: 5\n"
     ]
    }
   ],
   "source": [
    "# task 17\n",
    "numbers = (1, 2, 3, 4, 5, 6, 7, 8, 9)\n",
    "even_count = sum(1 for num in numbers if num % 2 == 0)\n",
    "odd_count = sum(1 for num in numbers if num % 2 != 0)\n",
    "print(\"Even numbers:\", even_count)\n",
    "print(\"Odd numbers:\", odd_count)"
   ]
  },
  {
   "cell_type": "markdown",
   "metadata": {},
   "source": [
    "<!-- 18. Find the sum of squares of each element of the list using for loop. numbers = [3, 5, 23,\n",
    "6, 5, 1, 2, 9, 8 -->"
   ]
  },
  {
   "cell_type": "code",
   "execution_count": 19,
   "metadata": {},
   "outputs": [
    {
     "name": "stdout",
     "output_type": "stream",
     "text": [
      "[8, 9, 2, 1, 5, 6, 23, 5, 3]\n"
     ]
    }
   ],
   "source": [
    "#task 18\n",
    "numbers = [3, 5, 23, 6, 5, 1, 2, 9, 8]\n",
    "reversed_list = []\n",
    "for i in range ((len(numbers) - 1),-1,-1):\n",
    "    #print(numbers[i])\n",
    "    reversed_list.append(numbers[i])\n",
    "print(reversed_list)"
   ]
  },
  {
   "cell_type": "markdown",
   "metadata": {},
   "source": [
    "<!-- 19. From given list: gadgets = [“Mobile”, “Laptop”, 100, “Camera”, 310.28, “Speakers”,\n",
    "27.00, “Television”, 1000, “Laptop Case”, “Camera Lens”]\n",
    "a) Create separate lists of strings and numbers.\n",
    "b) Sort the strings list in ascending order\n",
    "c) Sort the strings list in descending order\n",
    "d) Sort the number list from lowest to highest\n",
    "e) Sort the number list from highest to lowest -->"
   ]
  },
  {
   "cell_type": "code",
   "execution_count": null,
   "metadata": {},
   "outputs": [
    {
     "name": "stdout",
     "output_type": "stream",
     "text": [
      "Strings in ascending order: ['Camera', 'Camera Lens', 'Laptop', 'Laptop Case', 'Mobile', 'Speakers', 'Television']\n",
      "Strings in descending order: ['Television', 'Speakers', 'Mobile', 'Laptop Case', 'Laptop', 'Camera Lens', 'Camera']\n",
      "Numbers from lowest to highest: [27.0, 100, 310.28, 1000]\n",
      "Numbers from highest to lowest: [1000, 310.28, 100, 27.0]\n"
     ]
    }
   ],
   "source": [
    "# task19\n",
    "gadgets = [\"Mobile\", \"Laptop\", 100, \"Camera\", 310.28, \"Speakers\", 27.00, \"Television\", 1000, \"Laptop Case\", \"Camera Lens\"]\n",
    "strings = []\n",
    "numbers = []\n",
    "for item in gadgets:\n",
    "    if isinstance(item, str):\n",
    "        strings.append(item)\n",
    "    elif isinstance(item, (int, float)):\n",
    "        numbers.append(item)\n",
    "\n",
    "strings.sort()  # Sort strings in ascending order\n",
    "print(\"Strings in ascending order:\", strings)\n",
    "strings.sort(reverse=True)  # Sort strings in descending order\n",
    "print(\"Strings in descending order:\", strings)\n",
    "numbers.sort()  # Sort numbers from lowest to highest\n",
    "print(\"Numbers from lowest to highest:\", numbers)\n",
    "numbers.sort(reverse=True)  # Sort numbers from highest to lowest\n",
    "print(\"Numbers from highest to lowest:\", numbers)"
   ]
  }
 ],
 "metadata": {
  "kernelspec": {
   "display_name": "Python 3",
   "language": "python",
   "name": "python3"
  },
  "language_info": {
   "codemirror_mode": {
    "name": "ipython",
    "version": 3
   },
   "file_extension": ".py",
   "mimetype": "text/x-python",
   "name": "python",
   "nbconvert_exporter": "python",
   "pygments_lexer": "ipython3",
   "version": "3.13.0"
  }
 },
 "nbformat": 4,
 "nbformat_minor": 2
}
